{
  "nbformat": 4,
  "nbformat_minor": 0,
  "metadata": {
    "colab": {
      "name": "Matthew RNN edit Speed Challenge Framework",
      "provenance": [],
      "collapsed_sections": [],
      "machine_shape": "hm",
      "include_colab_link": true
    },
    "kernelspec": {
      "name": "python3",
      "display_name": "Python 3"
    },
    "accelerator": "GPU"
  },
  "cells": [
    {
      "cell_type": "markdown",
      "metadata": {
        "id": "view-in-github",
        "colab_type": "text"
      },
      "source": [
        "<a href=\"https://colab.research.google.com/github/mjn6862/Speed_Challenge/blob/master/Matthew_RNN_Speed_Challenge_Framework.ipynb\" target=\"_parent\"><img src=\"https://colab.research.google.com/assets/colab-badge.svg\" alt=\"Open In Colab\"/></a>"
      ]
    },
    {
      "cell_type": "markdown",
      "metadata": {
        "id": "IMTMpzey5z5c",
        "colab_type": "text"
      },
      "source": [
        "**Comma AI Speed Challenge**\n",
        "\n",
        "  This notebook will contain (hopefully) all of the functions you need to import the data into your model.\n",
        "\n",
        "  ***Be sure to train with GPU acceleration enabled***"
      ]
    },
    {
      "cell_type": "markdown",
      "metadata": {
        "id": "3kq-rlJxzHbr",
        "colab_type": "text"
      },
      "source": [
        "**Import Statements**"
      ]
    },
    {
      "cell_type": "code",
      "metadata": {
        "id": "sguc70jY5xt_",
        "colab_type": "code",
        "colab": {}
      },
      "source": [
        "import numpy as np\n",
        "import tensorflow as tf\n",
        "from tensorflow import keras\n",
        "from datetime import datetime\n",
        "import os"
      ],
      "execution_count": null,
      "outputs": []
    },
    {
      "cell_type": "code",
      "metadata": {
        "id": "458i7-V-qmEp",
        "colab_type": "code",
        "colab": {}
      },
      "source": [
        "# Load the TensorBoard notebook extension\n",
        "%load_ext tensorboard"
      ],
      "execution_count": null,
      "outputs": []
    },
    {
      "cell_type": "markdown",
      "metadata": {
        "id": "FNzSFHCVDKGp",
        "colab_type": "text"
      },
      "source": [
        "**Custom Data Generator**\n",
        "\n",
        "This works (I think) for giving two sequential images to a Keras Functional model as well as the velocity associated with the second image.\n",
        "\n",
        "At this point, don't worry about how this works. If you need something changed or fixed, just ask. This is the boring part anyways."
      ]
    },
    {
      "cell_type": "code",
      "metadata": {
        "id": "RXXe8EiADaTz",
        "colab_type": "code",
        "colab": {}
      },
      "source": [
        "# need to mount drive before using this\n",
        "class DataGenerator(keras.utils.Sequence):\n",
        "    'Generates data for Keras'\n",
        "    def __init__(self, list_IDs, labels, batch_size=32, dim=(32,32,32), n_channels=1,\n",
        "                 n_classes=10, shuffle=True):\n",
        "        'Initialization'\n",
        "        self.dim = dim\n",
        "        self.batch_size = batch_size\n",
        "        self.labels = labels\n",
        "        self.list_IDs = list_IDs\n",
        "        self.n_channels = n_channels\n",
        "        self.n_classes = n_classes\n",
        "        self.shuffle = shuffle\n",
        "        self.on_epoch_end()\n",
        "        self.direct = \"./drive/My Drive/commai_dataset/\"\n",
        "\n",
        "    def __len__(self):\n",
        "        'Denotes the number of batches per epoch'\n",
        "        #return int(np.floor(len(self.list_IDs) / self.batch_size))\n",
        "        return len(self.list_IDs)\n",
        "        \n",
        "    def __getitem__(self, index):\n",
        "        'Generate one batch of data'\n",
        "        \n",
        "        # Find list of IDs\n",
        "        list_IDs_temp = self.list_IDs[index]\n",
        "        # Generate data\n",
        "        X, y = self.__data_generation(list_IDs_temp)\n",
        "\n",
        "        return X, y\n",
        "\n",
        "    def on_epoch_end(self):\n",
        "        'Updates indexes after each epoch'\n",
        "        self.indexes = np.arange(len(self.list_IDs))\n",
        "        if self.shuffle == True:\n",
        "            np.random.shuffle(self.indexes)\n",
        "\n",
        "    def __data_generation(self, list_IDs_temp):\n",
        "        'Generates data containing batch_size samples' # X : (n_samples, *dim, n_channels)\n",
        "        # Initialization\n",
        "        X = np.load(self.direct+\"data/data_\" + list_IDs_temp +\".npy\")\n",
        "        X = X/255\n",
        "        x1 = X[0:101,:,:,:]\n",
        "        x2 = X[1:102,:,:,:]\n",
        "        y = np.load(self.direct+\"labels/label_\" + list_IDs_temp +\".npy\")\n",
        "        y = y[1:]\n",
        "        y.reshape(101,1)\n",
        "\n",
        "        return [np.array([x1]),np.array([x2])], y"
      ],
      "execution_count": null,
      "outputs": []
    },
    {
      "cell_type": "markdown",
      "metadata": {
        "id": "JJy-HdjtEH-o",
        "colab_type": "text"
      },
      "source": [
        "**Define custom loss function**\n",
        "\n",
        "This is not well tested, neither is it optimized. You might not even want to use this function.\n",
        "\n",
        "Keras backend functions are a powerful tool for writing custom loss functions. To define a loss function it just has to accept *y_true* and *y_pred* as arguments and return a float.\n",
        "\n",
        "To use your new loss function, change the argument in *model.compile()*."
      ]
    },
    {
      "cell_type": "markdown",
      "metadata": {
        "id": "lgc5HQbfFvN1",
        "colab_type": "text"
      },
      "source": [
        "**Define the test-train split and create the Data Generator**"
      ]
    },
    {
      "cell_type": "code",
      "metadata": {
        "id": "Ru6ugzA6Fzc_",
        "colab_type": "code",
        "colab": {}
      },
      "source": [
        "params = {'dim': (101,110,320),\n",
        "          'batch_size': 1,\n",
        "          'n_classes': 1,\n",
        "          'n_channels': 3,\n",
        "          'shuffle': False}\n",
        "\n",
        "train_data = []\n",
        "train_label = []\n",
        "valid_data = []\n",
        "valid_label = []\n",
        "\n",
        "for i in range(70):\n",
        "    train_data.append(\"%03d\" %i)\n",
        "    train_data.append(\"%03d\" %(i+100))\n",
        "\n",
        "for i in range(70, 100):\n",
        "    valid_data.append(\"%03d\" %i)\n",
        "    valid_data.append(\"%03d\" %(i+100))\n",
        "\n",
        "partition={'train':train_data, 'validation':valid_data}\n",
        "labels = {'train': train_label,'validation':valid_label}\n",
        "\n",
        "training_generator = DataGenerator(partition['train'], labels['train'], **params)\n",
        "validation_generator = DataGenerator(partition['validation'], labels['validation'], **params)"
      ],
      "execution_count": null,
      "outputs": []
    },
    {
      "cell_type": "markdown",
      "metadata": {
        "id": "5D0xuO74GB9N",
        "colab_type": "text"
      },
      "source": [
        "**Define the input layers**"
      ]
    },
    {
      "cell_type": "code",
      "metadata": {
        "id": "jcU50BoNsbMg",
        "colab_type": "code",
        "colab": {}
      },
      "source": [
        "from tensorflow.keras.layers import Input, Conv2D, ConvLSTM2D, TimeDistributed, LSTM, Dense, Flatten, concatenate"
      ],
      "execution_count": null,
      "outputs": []
    },
    {
      "cell_type": "code",
      "metadata": {
        "id": "CNebndf-rqCX",
        "colab_type": "code",
        "colab": {}
      },
      "source": [
        "inputA = Input(shape=(101,110,320,3), name='first_image') # for RNN shape=(time_steps, pixels, pixels, rgb)\n",
        "inputB = Input(shape=(101,110,320,3), name='second_image')"
      ],
      "execution_count": null,
      "outputs": []
    },
    {
      "cell_type": "markdown",
      "metadata": {
        "id": "NfgLVnl4GHC1",
        "colab_type": "text"
      },
      "source": [
        "**Define the model**\n",
        "\n"
      ]
    },
    {
      "cell_type": "code",
      "metadata": {
        "id": "_fi4XmnruMd0",
        "colab_type": "code",
        "colab": {}
      },
      "source": [
        "convA = TimeDistributed(Conv2D(24,(3,3),activation='relu',name='convA'))(inputA)\n",
        "convB = TimeDistributed(Conv2D(24,(3,3),activation='relu',name='convB'))(inputB)\n",
        "\n",
        "conc = concatenate(inputs=[convA,convB],name='conc')\n",
        "\n",
        "conv11 = TimeDistributed(Conv2D(32,(3,3),strides=(2,2),activation='relu',name='conv11'))(conc)\n",
        "block1 = TimeDistributed(Conv2D(32,(3,3),strides=(2,2),activation='relu',name='block1'))(conv11)\n",
        "\n",
        "conv21 = ConvLSTM2D(64,(3,3),activation='tanh', return_sequences=True, name='conv21')(block1)\n",
        "block2 = TimeDistributed(Conv2D(64,(3,3),strides=(2,2),activation='relu',name='block2'))(conv21)\n",
        "\n",
        "conv31 = TimeDistributed(Conv2D(128,(3,3),activation='relu', name='conv31'))(block2)\n",
        "block3 = TimeDistributed(Conv2D(128,(3,3),strides=(2,2),activation='relu', name='block3'))(conv31)\n",
        "\n",
        "flat = TimeDistributed(Flatten(name='flat'))(block3)\n",
        "\n",
        "output = TimeDistributed(Dense(1, name='output'))(flat)"
      ],
      "execution_count": null,
      "outputs": []
    },
    {
      "cell_type": "code",
      "metadata": {
        "id": "L_jXpaQawLYR",
        "colab_type": "code",
        "colab": {}
      },
      "source": [
        "model = tf.keras.Model(inputs=[inputA,inputB], outputs=output)\n",
        "#model.load_weights('/content/drive/My Drive/SpeedChallenge/Checkpoints/jrk_match20_2_2.h5', by_name=True)"
      ],
      "execution_count": null,
      "outputs": []
    },
    {
      "cell_type": "code",
      "metadata": {
        "id": "orwQgmCpwga9",
        "colab_type": "code",
        "colab": {}
      },
      "source": [
        "model.summary()"
      ],
      "execution_count": null,
      "outputs": []
    },
    {
      "cell_type": "markdown",
      "metadata": {
        "id": "kyKXx_R9GgXH",
        "colab_type": "text"
      },
      "source": [
        "**Declare the optimizer and loss function, then compile your *less ridiculous*  model**"
      ]
    },
    {
      "cell_type": "code",
      "metadata": {
        "id": "2dJEsGc-w_kI",
        "colab_type": "code",
        "colab": {}
      },
      "source": [
        "import tensorflow.keras.backend as K\n",
        "\n",
        "delta = 10\n",
        "def acc_min(y_true, y_pred):\n",
        "  return K.mean(K.square(y_true-y_pred)) + delta*K.sum(K.square(y_pred[1:]-y_pred[0:-1]))"
      ],
      "execution_count": null,
      "outputs": []
    },
    {
      "cell_type": "code",
      "metadata": {
        "id": "g5wAeSgj19df",
        "colab_type": "code",
        "colab": {}
      },
      "source": [
        "model.compile(optimizer=keras.optimizers.Adam(clipnorm=0.001),\n",
        "               loss=acc_min,\n",
        "              metrics=['mse'])"
      ],
      "execution_count": null,
      "outputs": []
    },
    {
      "cell_type": "markdown",
      "metadata": {
        "id": "fZlP1XIJq7gf",
        "colab_type": "text"
      },
      "source": [
        "**Prepare the TensorBoard and Callbacks**"
      ]
    },
    {
      "cell_type": "code",
      "metadata": {
        "id": "cwwzxBtD2f48",
        "colab_type": "code",
        "colab": {}
      },
      "source": [
        "logdir = os.path.join(\"speed_logs2\", datetime.now().strftime(\"%Y%m%d-%H%M%S\"))\n",
        "tensorboard_callback = keras.callbacks.TensorBoard(logdir, histogram_freq=1)"
      ],
      "execution_count": null,
      "outputs": []
    },
    {
      "cell_type": "code",
      "metadata": {
        "id": "FeSgJaJr2iWR",
        "colab_type": "code",
        "colab": {}
      },
      "source": [
        "earlystop_callback = keras.callbacks.EarlyStopping(monitor='val_loss', patience=3, restore_best_weights=True)"
      ],
      "execution_count": null,
      "outputs": []
    },
    {
      "cell_type": "code",
      "metadata": {
        "id": "d1s0JuyU2mry",
        "colab_type": "code",
        "colab": {}
      },
      "source": [
        "# save weights at each epoch\n",
        "cp_callback = tf.keras.callbacks.ModelCheckpoint(filepath=\"./drive/My Drive/SpeedChallenge/Checkpoints/rnn_{epoch}.h5\", save_weights_only=True, save_freq='epoch', verbose=0)"
      ],
      "execution_count": null,
      "outputs": []
    },
    {
      "cell_type": "code",
      "metadata": {
        "id": "8dn9Wd8Qq5aB",
        "colab_type": "code",
        "colab": {}
      },
      "source": [
        "keep = 30 # how many epochs to keep 0.001 as the learning rate\n",
        "def scheduler(epoch):\n",
        "  if epoch < keep:\n",
        "    return 0.0005\n",
        "  else:\n",
        "    return 0.0005*tf.math.exp(0.1*(keep-epoch))\n",
        "\n",
        "schedule_callback = keras.callbacks.LearningRateScheduler(scheduler)"
      ],
      "execution_count": null,
      "outputs": []
    },
    {
      "cell_type": "markdown",
      "metadata": {
        "id": "K6zUadpkHe9j",
        "colab_type": "text"
      },
      "source": [
        "**Train using the fit_generator**"
      ]
    },
    {
      "cell_type": "code",
      "metadata": {
        "id": "bh2H1r9OBJ4W",
        "colab_type": "code",
        "colab": {}
      },
      "source": [
        "model.fit_generator(generator=training_generator, \n",
        "                    validation_data=validation_generator, \n",
        "                    verbose=1,\n",
        "                    epochs=30,\n",
        "                    callbacks=[tensorboard_callback,\n",
        "                               cp_callback,\n",
        "                               schedule_callback])"
      ],
      "execution_count": null,
      "outputs": []
    },
    {
      "cell_type": "code",
      "metadata": {
        "id": "-dnQHt_erVcS",
        "colab_type": "code",
        "colab": {}
      },
      "source": [
        "%tensorboard --logdir \\speed_logs"
      ],
      "execution_count": null,
      "outputs": []
    },
    {
      "cell_type": "markdown",
      "metadata": {
        "id": "cf-S_rLY5ikz",
        "colab_type": "text"
      },
      "source": [
        "**Visualize the predictions**\n"
      ]
    },
    {
      "cell_type": "code",
      "metadata": {
        "id": "EwgXqsVV2DtY",
        "colab_type": "code",
        "colab": {}
      },
      "source": [
        "output3 = keras.layers.ReLU()(output)\n",
        "prediction_model = keras.Model(inputs=[inputA,inputB],outputs=output3)\n",
        "prediction_model.set_weights(model.get_weights())"
      ],
      "execution_count": null,
      "outputs": []
    },
    {
      "cell_type": "code",
      "metadata": {
        "id": "_egIxhhXT2Qn",
        "colab_type": "code",
        "colab": {}
      },
      "source": [
        "#prediction_model.load_weights('/content/drive/My Drive/SpeedChallenge/Checkpoints/rnn_5.h5', by_name=True)"
      ],
      "execution_count": null,
      "outputs": []
    },
    {
      "cell_type": "code",
      "metadata": {
        "id": "V7Pl0M7E0Vf-",
        "colab_type": "code",
        "colab": {}
      },
      "source": [
        "predictions = model.predict(validation_generator)"
      ],
      "execution_count": null,
      "outputs": []
    },
    {
      "cell_type": "code",
      "metadata": {
        "id": "lUWVerUauzjx",
        "colab_type": "code",
        "colab": {}
      },
      "source": [
        "import matplotlib.pyplot as plt"
      ],
      "execution_count": null,
      "outputs": []
    },
    {
      "cell_type": "code",
      "metadata": {
        "id": "mx2NZOfAxxAW",
        "colab_type": "code",
        "colab": {}
      },
      "source": [
        "# get all validation labels from the generator into one array\n",
        "val_labels = np.zeros(np.prod(predictions.shape))\n",
        "for i in range(predictions.shape[0]):\n",
        "  val_labels[i*101:(i+1)*101] = validation_generator[i][1]"
      ],
      "execution_count": null,
      "outputs": []
    },
    {
      "cell_type": "code",
      "metadata": {
        "id": "tLAk0xw7v7iK",
        "colab_type": "code",
        "colab": {}
      },
      "source": [
        "# sort predictions into size mph bins based on ground truth labels\n",
        "flat_predictions = np.ndarray.flatten(predictions)\n",
        "size = 2\n",
        "sorted_predictions = []\n",
        "sort_bins = np.arange(0,26+size,size) # max label is 26.05\n",
        "pred_bins = np.arange(0,26+size,size)\n",
        "for i in range(len(sort_bins)-1):\n",
        "  preds = flat_predictions[np.where((sort_bins[i] <= val_labels) & (val_labels < sort_bins[i+1]))]\n",
        "  sorted_predictions.append(preds)"
      ],
      "execution_count": null,
      "outputs": []
    },
    {
      "cell_type": "code",
      "metadata": {
        "id": "8bDsBj_fvFsD",
        "colab_type": "code",
        "colab": {}
      },
      "source": [
        "# use histograms to see how well each size mph bin was predicted\n",
        "num_rows = len(sort_bins)//2 # + 1 sometimes\n",
        "num_cols = 2\n",
        "num_images = num_rows*num_cols\n",
        "plt.figure(figsize=(4*2*num_cols, 4*num_rows))\n",
        "for i in range(num_images-1):\n",
        "  plt.subplot(num_rows,2*num_cols, 2*i+1)\n",
        "  plt.hist(sorted_predictions[i], bins = pred_bins)\n",
        "  plt.xticks(ticks=pred_bins,rotation=-30)\n",
        "  plt.title('{}-{} mph'.format(sort_bins[i],sort_bins[i+1]))\n",
        "plt.tight_layout()\n",
        "plt.show()"
      ],
      "execution_count": null,
      "outputs": []
    },
    {
      "cell_type": "code",
      "metadata": {
        "id": "IyPMkEaQGYTE",
        "colab_type": "code",
        "colab": {}
      },
      "source": [
        "prediction_model.compile(optimizer=keras.optimizers.Adam(),\n",
        "               loss='mean_squared_error')"
      ],
      "execution_count": null,
      "outputs": []
    },
    {
      "cell_type": "code",
      "metadata": {
        "id": "qG4Abz30GbtM",
        "colab_type": "code",
        "colab": {}
      },
      "source": [
        "prediction_model.evaluate(validation_generator)"
      ],
      "execution_count": null,
      "outputs": []
    }
  ]
}