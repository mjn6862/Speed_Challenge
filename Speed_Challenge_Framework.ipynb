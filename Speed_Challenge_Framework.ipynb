{
  "nbformat": 4,
  "nbformat_minor": 0,
  "metadata": {
    "colab": {
      "name": "Matthew edit Speed Challenge Framework",
      "provenance": [],
      "collapsed_sections": [],
      "include_colab_link": true
    },
    "kernelspec": {
      "name": "python3",
      "display_name": "Python 3"
    },
    "accelerator": "GPU"
  },
  "cells": [
    {
      "cell_type": "markdown",
      "metadata": {
        "id": "view-in-github",
        "colab_type": "text"
      },
      "source": [
        "<a href=\"https://colab.research.google.com/github/mjn6862/Speed_Challenge/blob/demo/Speed_Challenge_Framework.ipynb\" target=\"_parent\"><img src=\"https://colab.research.google.com/assets/colab-badge.svg\" alt=\"Open In Colab\"/></a>"
      ]
    },
    {
      "cell_type": "markdown",
      "metadata": {
        "id": "IMTMpzey5z5c",
        "colab_type": "text"
      },
      "source": [
        "**Comma AI Speed Challenge**\n",
        "\n",
        "  This notebook will contain (hopefully) all of the functions you need to import the data into your model.\n",
        "\n",
        "  ***Be sure to train with GPU acceleration enabled***"
      ]
    },
    {
      "cell_type": "markdown",
      "metadata": {
        "id": "3kq-rlJxzHbr",
        "colab_type": "text"
      },
      "source": [
        "**Import Statements**"
      ]
    },
    {
      "cell_type": "code",
      "metadata": {
        "id": "sguc70jY5xt_",
        "colab_type": "code",
        "colab": {}
      },
      "source": [
        "import numpy as np\n",
        "import tensorflow as tf\n",
        "from tensorflow import keras\n",
        "from datetime import datetime\n",
        "import os"
      ],
      "execution_count": null,
      "outputs": []
    },
    {
      "cell_type": "code",
      "metadata": {
        "id": "458i7-V-qmEp",
        "colab_type": "code",
        "colab": {
          "base_uri": "https://localhost:8080/",
          "height": 51
        },
        "outputId": "c45024e6-5e5b-4cb9-f176-d494f7d08608"
      },
      "source": [
        "# Load the TensorBoard notebook extension\n",
        "%load_ext tensorboard"
      ],
      "execution_count": null,
      "outputs": [
        {
          "output_type": "stream",
          "text": [
            "The tensorboard extension is already loaded. To reload it, use:\n",
            "  %reload_ext tensorboard\n"
          ],
          "name": "stdout"
        }
      ]
    },
    {
      "cell_type": "markdown",
      "metadata": {
        "id": "FNzSFHCVDKGp",
        "colab_type": "text"
      },
      "source": [
        "**Custom Data Generator**\n",
        "\n",
        "This works (I think) for giving two sequential images to a Keras Functional model as well as the velocity associated with the second image.\n",
        "\n",
        "At this point, don't worry about how this works. If you need something changed or fixed, just ask. This is the boring part anyways."
      ]
    },
    {
      "cell_type": "code",
      "metadata": {
        "id": "RXXe8EiADaTz",
        "colab_type": "code",
        "colab": {}
      },
      "source": [
        "# need to mount drive before using this\n",
        "class DataGenerator(keras.utils.Sequence):\n",
        "    'Generates data for Keras'\n",
        "    def __init__(self, list_IDs, labels, batch_size=32, dim=(32,32,32), n_channels=1,\n",
        "                 n_classes=10, shuffle=True):\n",
        "        'Initialization'\n",
        "        self.dim = dim\n",
        "        self.batch_size = batch_size\n",
        "        self.labels = labels\n",
        "        self.list_IDs = list_IDs\n",
        "        self.n_channels = n_channels\n",
        "        self.n_classes = n_classes\n",
        "        self.shuffle = shuffle\n",
        "        self.on_epoch_end()\n",
        "        self.direct = \"./drive/My Drive/commai_dataset/\"\n",
        "\n",
        "    def __len__(self):\n",
        "        'Denotes the number of batches per epoch'\n",
        "        #return int(np.floor(len(self.list_IDs) / self.batch_size))\n",
        "        return len(self.list_IDs)\n",
        "        \n",
        "    def __getitem__(self, index):\n",
        "        'Generate one batch of data'\n",
        "        \n",
        "        # Find list of IDs\n",
        "        list_IDs_temp = self.list_IDs[index]\n",
        "        # Generate data\n",
        "        X, y = self.__data_generation(list_IDs_temp)\n",
        "\n",
        "        return X, y\n",
        "\n",
        "    def on_epoch_end(self):\n",
        "        'Updates indexes after each epoch'\n",
        "        self.indexes = np.arange(len(self.list_IDs))\n",
        "        if self.shuffle == True:\n",
        "            np.random.shuffle(self.indexes)\n",
        "\n",
        "    def __data_generation(self, list_IDs_temp):\n",
        "        'Generates data containing batch_size samples' # X : (n_samples, *dim, n_channels)\n",
        "        # Initialization\n",
        "        X = np.load(self.direct+\"data/data_\" + list_IDs_temp +\".npy\")\n",
        "        # normalize\n",
        "        X = X/255\n",
        "        x1 = X[0:101,:,:,:]\n",
        "        x2 = X[1:102,:,:,:]\n",
        "        y = np.load(self.direct+\"labels/label_\" + list_IDs_temp +\".npy\")\n",
        "        y = y[1:]\n",
        "\n",
        "        return [x1, x2], y"
      ],
      "execution_count": null,
      "outputs": []
    },
    {
      "cell_type": "markdown",
      "metadata": {
        "id": "JJy-HdjtEH-o",
        "colab_type": "text"
      },
      "source": [
        "**Define custom loss function**\n",
        "\n",
        "This is not well tested, neither is it optimized. You might not even want to use this function.\n",
        "\n",
        "Keras backend functions are a powerful tool for writing custom loss functions. To define a loss function it just has to accept *y_true* and *y_pred* as arguments and return a float.\n",
        "\n",
        "To use your new loss function, change the argument in *model.compile()*."
      ]
    },
    {
      "cell_type": "markdown",
      "metadata": {
        "id": "lgc5HQbfFvN1",
        "colab_type": "text"
      },
      "source": [
        "**Define the test-train split and create the Data Generator**"
      ]
    },
    {
      "cell_type": "code",
      "metadata": {
        "id": "Ru6ugzA6Fzc_",
        "colab_type": "code",
        "colab": {}
      },
      "source": [
        "params = {'dim': (110,320),\n",
        "          'batch_size': 101,\n",
        "          'n_classes': 1,\n",
        "          'n_channels': 3,\n",
        "          'shuffle': False}\n",
        "\n",
        "train_data = []\n",
        "train_label = []\n",
        "valid_data = []\n",
        "valid_label = []\n",
        "\n",
        "data_ind = np.arange(0,100,1)\n",
        "np.random.shuffle(data_ind)\n",
        "\n",
        "for i in data_ind[0:70]:\n",
        "    train_data.append(\"%03d\" %i)\n",
        "    train_data.append(\"%03d\" %(i+100))\n",
        "\n",
        "for i in data_ind[70:100]:\n",
        "    valid_data.append(\"%03d\" %i)\n",
        "    valid_data.append(\"%03d\" %(i+100))\n",
        "\n",
        "partition={'train':train_data, 'validation':valid_data}\n",
        "labels = {'train': train_label,'validation':valid_label}\n",
        "\n",
        "training_generator = DataGenerator(partition['train'], labels['train'], **params)\n",
        "validation_generator = DataGenerator(partition['validation'], labels['validation'], **params)"
      ],
      "execution_count": null,
      "outputs": []
    },
    {
      "cell_type": "code",
      "metadata": {
        "id": "C8s6bwg68oNj",
        "colab_type": "code",
        "colab": {}
      },
      "source": [
        "#np.save('./drive/My Drive/SpeedChallenge/split/jrk_min20_data_ind', data_ind)"
      ],
      "execution_count": null,
      "outputs": []
    },
    {
      "cell_type": "markdown",
      "metadata": {
        "id": "5D0xuO74GB9N",
        "colab_type": "text"
      },
      "source": [
        "**Define the input layers**"
      ]
    },
    {
      "cell_type": "code",
      "metadata": {
        "id": "BszGQ-CEGEDN",
        "colab_type": "code",
        "colab": {}
      },
      "source": [
        "input_A = keras.layers.Input(shape=(110, 320, 3), name=\"first_image\")\n",
        "input_B = keras.layers.Input(shape=(110, 320, 3), name=\"second_image\")"
      ],
      "execution_count": null,
      "outputs": []
    },
    {
      "cell_type": "markdown",
      "metadata": {
        "id": "NfgLVnl4GHC1",
        "colab_type": "text"
      },
      "source": [
        "**Define the model**\n",
        "\n"
      ]
    },
    {
      "cell_type": "code",
      "metadata": {
        "id": "PPb1yL7B1LQ_",
        "colab_type": "code",
        "colab": {}
      },
      "source": [
        "convA = keras.layers.Conv2D(24,(3,3),activation='relu',name='convA')(input_A)\n",
        "\n",
        "convB = keras.layers.Conv2D(24,(3,3),activation='relu',name='convB')(input_B)\n",
        "\n",
        "conc = keras.layers.concatenate(inputs=[convA,convB],name='conc')\n",
        "\n",
        "conv11 = keras.layers.Conv2D(32,(3,3),strides=(2,2),activation='relu', name='conv11')(conc)\n",
        "block1 = keras.layers.Conv2D(32,(3,3),strides=(2,2),activation='relu', name='block1')(conv11)\n",
        "\n",
        "conv21 = keras.layers.Conv2D(64,(3,3),activation='relu', name='conv21')(block1)\n",
        "block2 = keras.layers.Conv2D(64,(3,3),strides=(2,2),activation='relu', name='block2')(conv21)\n",
        "\n",
        "conv31 = keras.layers.Conv2D(128,(3,3),activation='relu', name='conv31')(block2)\n",
        "block3 = keras.layers.Conv2D(128,(3,3),strides=(2,2),activation='relu', name='block3')(conv31)\n",
        "\n",
        "flat = keras.layers.Flatten(name='flat')(block3)\n",
        "\n",
        "output = keras.layers.Dense(1,name='output')(flat)"
      ],
      "execution_count": null,
      "outputs": []
    },
    {
      "cell_type": "code",
      "metadata": {
        "id": "riWWS7301zRn",
        "colab_type": "code",
        "colab": {}
      },
      "source": [
        "model = keras.Model(inputs=[input_A,input_B],outputs=output)"
      ],
      "execution_count": null,
      "outputs": []
    },
    {
      "cell_type": "code",
      "metadata": {
        "id": "6L0J3o0U15Yk",
        "colab_type": "code",
        "colab": {}
      },
      "source": [
        "model.summary()"
      ],
      "execution_count": null,
      "outputs": []
    },
    {
      "cell_type": "markdown",
      "metadata": {
        "id": "kyKXx_R9GgXH",
        "colab_type": "text"
      },
      "source": [
        "**Declare the optimizer and loss function, then compile your *less ridiculous*  model**"
      ]
    },
    {
      "cell_type": "code",
      "metadata": {
        "id": "ZXLw7I0rjnhz",
        "colab_type": "code",
        "colab": {}
      },
      "source": [
        "import tensorflow.keras.backend as K"
      ],
      "execution_count": null,
      "outputs": []
    },
    {
      "cell_type": "code",
      "metadata": {
        "id": "wJK_Ke2gi4_l",
        "colab_type": "code",
        "colab": {}
      },
      "source": [
        "# custom loss: along with minimizing the mean squared error, we'll try to \n",
        "# minimize the first derivative of the y_pred when thought of as a function of \n",
        "# time.  The idea is that speed shouldn't change much from one time step to the \n",
        "# next. \n",
        "# Use different values of delta to weight the relative importance of minimizing \n",
        "# the first derivative\n",
        "delta = 10\n",
        "def acc_min(y_true, y_pred):\n",
        "  return K.mean(K.square(y_true-y_pred)) + delta*K.sum(K.square(y_pred[1:]-y_pred[0:-1]))\n",
        "\n",
        "# similar, but second derivative.  The idea is that acceleration shouldn't \n",
        "# change much from one time step to the next. \n",
        "delta2 = 20\n",
        "def jrk_min(y_true, y_pred):\n",
        "  return K.mean(K.square(y_true-y_pred)) + delta2*K.sum(K.square(y_pred[2:]-2*y_pred[1:-1]+y_pred[0:-2]))"
      ],
      "execution_count": null,
      "outputs": []
    },
    {
      "cell_type": "code",
      "metadata": {
        "id": "g5wAeSgj19df",
        "colab_type": "code",
        "colab": {}
      },
      "source": [
        "model.compile(optimizer=keras.optimizers.Adam(),\n",
        "               loss=jrk_min,\n",
        "              metrics=['mse'])"
      ],
      "execution_count": null,
      "outputs": []
    },
    {
      "cell_type": "markdown",
      "metadata": {
        "id": "fZlP1XIJq7gf",
        "colab_type": "text"
      },
      "source": [
        "**Prepare the TensorBoard and Callbacks**"
      ]
    },
    {
      "cell_type": "code",
      "metadata": {
        "id": "liFS-fwI3iF8",
        "colab_type": "code",
        "colab": {}
      },
      "source": [
        "logdir = os.path.join(\"speed_logs\", datetime.now().strftime(\"%Y%m%d-%H%M%S\"))\n",
        "tensorboard_callback = keras.callbacks.TensorBoard(logdir, histogram_freq=1)"
      ],
      "execution_count": null,
      "outputs": []
    },
    {
      "cell_type": "code",
      "metadata": {
        "id": "UV4a9TGzaZgF",
        "colab_type": "code",
        "colab": {}
      },
      "source": [
        "# save weights at each epoch\n",
        "cp_callback = tf.keras.callbacks.ModelCheckpoint(filepath=\"./drive/My Drive/SpeedChallenge/Checkpoints/jrk20_3_{epoch}.h5\", save_weights_only=True, save_freq='epoch', verbose=0)"
      ],
      "execution_count": null,
      "outputs": []
    },
    {
      "cell_type": "code",
      "metadata": {
        "id": "8dn9Wd8Qq5aB",
        "colab_type": "code",
        "colab": {}
      },
      "source": [
        "earlystop_callback = keras.callbacks.EarlyStopping(monitor='val_loss', patience=3, restore_best_weights=True)\n",
        "\n",
        "\n",
        "keep = 10 # how many epochs to keep 0.001 as the learning rate\n",
        "def scheduler(epoch):\n",
        "  if epoch < keep:\n",
        "    return 0.0002\n",
        "  else:\n",
        "    return 0.0002*tf.math.exp(0.1*(keep-epoch))\n",
        "\n",
        "schedule_callback = keras.callbacks.LearningRateScheduler(scheduler)\n",
        "\n",
        "#save_best_weights = keras.callbacks.ModelCheckpoint('model.h5', save_best_only=True, monitor='val_loss', mode='min')\n"
      ],
      "execution_count": null,
      "outputs": []
    },
    {
      "cell_type": "markdown",
      "metadata": {
        "id": "K6zUadpkHe9j",
        "colab_type": "text"
      },
      "source": [
        "**Train using the fit_generator**"
      ]
    },
    {
      "cell_type": "code",
      "metadata": {
        "id": "O_ULD_Rx2HjG",
        "colab_type": "code",
        "colab": {}
      },
      "source": [
        "model.fit_generator(generator=training_generator, \n",
        "                    validation_data=validation_generator, \n",
        "                    verbose=1,\n",
        "                    epochs=10,\n",
        "                    callbacks=[tensorboard_callback, \n",
        "                               cp_callback,\n",
        "                               schedule_callback])"
      ],
      "execution_count": null,
      "outputs": []
    },
    {
      "cell_type": "code",
      "metadata": {
        "id": "-dnQHt_erVcS",
        "colab_type": "code",
        "colab": {}
      },
      "source": [
        "%tensorboard --logdir \\speed_logs"
      ],
      "execution_count": null,
      "outputs": []
    },
    {
      "cell_type": "markdown",
      "metadata": {
        "id": "cf-S_rLY5ikz",
        "colab_type": "text"
      },
      "source": [
        "**Visualize the predictions**\n"
      ]
    },
    {
      "cell_type": "code",
      "metadata": {
        "id": "0IGmoz1NK7-z",
        "colab_type": "code",
        "colab": {}
      },
      "source": [
        "output3 = keras.layers.ReLU()(output)\n",
        "prediction_model = keras.Model(inputs=[input_A,input_B],outputs=output3)\n",
        "prediction_model.load_weights('/content/drive/My Drive/SpeedChallenge/Checkpoints/jrk20_3_10.h5', by_name=True)"
      ],
      "execution_count": null,
      "outputs": []
    },
    {
      "cell_type": "code",
      "metadata": {
        "id": "V7Pl0M7E0Vf-",
        "colab_type": "code",
        "colab": {}
      },
      "source": [
        "predictions = prediction_model.predict(validation_generator)"
      ],
      "execution_count": null,
      "outputs": []
    },
    {
      "cell_type": "code",
      "metadata": {
        "id": "lUWVerUauzjx",
        "colab_type": "code",
        "colab": {}
      },
      "source": [
        "import matplotlib.pyplot as plt"
      ],
      "execution_count": null,
      "outputs": []
    },
    {
      "cell_type": "code",
      "metadata": {
        "id": "mx2NZOfAxxAW",
        "colab_type": "code",
        "colab": {}
      },
      "source": [
        "# get all validation labels from the generator into one array\n",
        "val_labels = np.zeros(predictions.shape)\n",
        "for i in range(60):\n",
        "  val_labels[i*101:(i+1)*101] = validation_generator[i][1].reshape((101,1))"
      ],
      "execution_count": null,
      "outputs": []
    },
    {
      "cell_type": "code",
      "metadata": {
        "id": "tLAk0xw7v7iK",
        "colab_type": "code",
        "colab": {}
      },
      "source": [
        "# sort predictions into size mph bins based on ground truth labels\n",
        "\n",
        "size = 2\n",
        "sorted_predictions = []\n",
        "sort_bins = np.arange(0,26+size,size) # max label is 26.05\n",
        "pred_bins = np.arange(0,int(max(predictions)) + size, size)\n",
        "for i in range(len(sort_bins)-1):\n",
        "  preds = predictions[np.where((sort_bins[i] <= val_labels) & (val_labels < sort_bins[i+1]))]\n",
        "  sorted_predictions.append(preds)"
      ],
      "execution_count": null,
      "outputs": []
    },
    {
      "cell_type": "code",
      "metadata": {
        "id": "8bDsBj_fvFsD",
        "colab_type": "code",
        "colab": {}
      },
      "source": [
        "# use histograms to see how well each size mph bin was predicted\n",
        "num_rows = len(sort_bins)//2 # + 1 sometimes\n",
        "num_cols = 2\n",
        "num_images = num_rows*num_cols\n",
        "plt.figure(figsize=(4*2*num_cols, 4*num_rows))\n",
        "for i in range(num_images):\n",
        "  plt.subplot(num_rows,2*num_cols, 2*i+1)\n",
        "  plt.hist(sorted_predictions[i], bins = pred_bins)\n",
        "  plt.xticks(ticks=pred_bins,rotation=-30)\n",
        "  plt.title('{}-{} mph'.format(sort_bins[i],sort_bins[i+1]))\n",
        "plt.tight_layout()\n",
        "plt.show()"
      ],
      "execution_count": null,
      "outputs": []
    },
    {
      "cell_type": "code",
      "metadata": {
        "id": "k8T2vXu2LI0C",
        "colab_type": "code",
        "colab": {}
      },
      "source": [
        "prediction_model.compile(optimizer=keras.optimizers.Adam(),\n",
        "               loss=jrk_min,\n",
        "               metrics=['mse'])"
      ],
      "execution_count": null,
      "outputs": []
    },
    {
      "cell_type": "code",
      "metadata": {
        "id": "fuqkGtRZLKzp",
        "colab_type": "code",
        "colab": {
          "base_uri": "https://localhost:8080/",
          "height": 51
        },
        "outputId": "b3980713-1722-4d1b-b9f8-e4db54d09878"
      },
      "source": [
        "prediction_model.evaluate(validation_generator)"
      ],
      "execution_count": null,
      "outputs": [
        {
          "output_type": "stream",
          "text": [
            "60/60 [==============================] - 140s 2s/step - loss: 32.4877 - mse: 13.4991\n"
          ],
          "name": "stdout"
        },
        {
          "output_type": "execute_result",
          "data": {
            "text/plain": [
              "[32.48771286010742, 13.499149322509766]"
            ]
          },
          "metadata": {
            "tags": []
          },
          "execution_count": 57
        }
      ]
    },
    {
      "cell_type": "code",
      "metadata": {
        "id": "ZmOYQ0Bh0avW",
        "colab_type": "code",
        "colab": {
          "base_uri": "https://localhost:8080/",
          "height": 51
        },
        "outputId": "461ca861-caee-4d3a-cac1-d78eafae0305"
      },
      "source": [
        "prediction_model.evaluate(training_generator)"
      ],
      "execution_count": null,
      "outputs": [
        {
          "output_type": "stream",
          "text": [
            "140/140 [==============================] - 285s 2s/step - loss: 11.6104 - mse: 7.3954\n"
          ],
          "name": "stdout"
        },
        {
          "output_type": "execute_result",
          "data": {
            "text/plain": [
              "[11.610396385192871, 7.395439147949219]"
            ]
          },
          "metadata": {
            "tags": []
          },
          "execution_count": 58
        }
      ]
    }
  ]
}